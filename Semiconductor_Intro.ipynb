{
 "cells": [
  {
   "cell_type": "code",
   "execution_count": 1,
   "metadata": {},
   "outputs": [
    {
     "name": "stdout",
     "output_type": "stream",
     "text": [
      "Populating the interactive namespace from numpy and matplotlib\n",
      "Author        : S Monroe\n",
      "Version       : 3.7.4 (default, Aug  9 2019, 18:34:13) [MSC v.1915 64 bit (AMD64)]\n",
      "Symbolic lib  : 1.4\n",
      "Encoding      : utf-8\n",
      "Timestamp     : 1578679293.2368548\n"
     ]
    }
   ],
   "source": [
    "# %load C:\\Users\\sm626967\\Documents\\py\\py_templates\\1_Boilerplate_symbolic-v2.py\n",
    "get_ipython().run_line_magic('pylab', 'inline')\n",
    "from sympy import *\n",
    "import sympy as sp\n",
    "import time\n",
    "\n",
    "#hextime=float.hex(time.time())\n",
    "# usage: %run py_templates/1_Boilerplate_symbolic-v2.py\n",
    "# to run from your root level py directory.\n",
    "\n",
    "\n",
    "\n",
    "a, b, c, d, x, y, z, t = symbols('a b c d x y z t')\n",
    "k, m, n = symbols('k m n', integer=True)\n",
    "f, g, h = symbols('f g h', cls=Function)\n",
    "init_printing()\n",
    "\n",
    "print(\"Author        : S Monroe\")\n",
    "print(\"Version       :\",sys.version[0:66])\n",
    "print(\"Symbolic lib  :\",sp.__version__)\n",
    "print(\"Encoding      :\",sys.getdefaultencoding())\n",
    "print(\"Timestamp     :\",time.time())"
   ]
  },
  {
   "cell_type": "markdown",
   "metadata": {},
   "source": [
    "## PN and Metal-Semiconductor Junctions"
   ]
  },
  {
   "cell_type": "markdown",
   "metadata": {},
   "source": [
    "Silicon is in column 4 $(IV_A)$ of the periodic table:"
   ]
  },
  {
   "cell_type": "markdown",
   "metadata": {},
   "source": [
    "![Periodic Table](./Periodic_Table.JPG \"Periodic Table\")"
   ]
  },
  {
   "cell_type": "markdown",
   "metadata": {},
   "source": [
    "We will be using characteristics of elements found in column(s) $III_A$ and $V_A$ as well."
   ]
  },
  {
   "cell_type": "markdown",
   "metadata": {},
   "source": [
    "Characteristics of the silicon atom:<br>\n",
    "    - 10 core electrons (tightly bound)\n",
    "    - 4 valence electrons (loosely bound, responsible for most chemical properties)\n",
    "<br><br>\n",
    "Other semiconductors:<br>\n",
    "    - Ge, C(diamond form), SiGe\n",
    "    - GaAs, InP, InGaAS, InGaAsP, ZnSe, CdTe (typially 4 valence electrons per atom)"
   ]
  },
  {
   "cell_type": "markdown",
   "metadata": {},
   "source": [
    "![Intrinsic Silicon](./Si.png \"Intrinsic Silicon\")"
   ]
  },
  {
   "cell_type": "markdown",
   "metadata": {},
   "source": [
    "Simple \"flattened\" model of a silicon crystal:"
   ]
  },
  {
   "cell_type": "markdown",
   "metadata": {},
   "source": [
    "![Si_Flat](./Si_Flat.JPG \"Flattened Silicon Model\")"
   ]
  },
  {
   "cell_type": "markdown",
   "metadata": {},
   "source": [
    "Something special takes place at $0K$ ... All bonds are satisfied $\\implies$ all valence electrons are engaged in bonding<br><br>\n",
    "No \"free\" electrons"
   ]
  },
  {
   "cell_type": "markdown",
   "metadata": {},
   "source": [
    "![Si_Finite_Temp](./Si_Finite_Temp.JPG \"Finite Temperature\")"
   ]
  },
  {
   "cell_type": "markdown",
   "metadata": {},
   "source": [
    "- Finite thermal Energy<br>\n",
    "- Some bonds are broken<br>\n",
    "- \"Free\" electrons (mobile negative charge $\\approx -1.602 \\times 10^{-19} C$)<br>\n",
    "- \"Free\" holes (mobile negative charge $\\approx 1.602 \\times 10^{-19} C$)<br>\n",
    "- \"Free\" electrons and holes are called <i>carriers</i><br>\n",
    "- \"Free\" carriers are mobile charged particles<br>"
   ]
  },
  {
   "cell_type": "markdown",
   "metadata": {},
   "source": [
    "Some clarification: when we speak of \"electrons\" in ELEC-2150, we mean <b>free electrons</b><br>\n",
    "We are not concerned with bonding electons or core electrons<br>"
   ]
  },
  {
   "cell_type": "markdown",
   "metadata": {},
   "source": [
    "$n \\equiv$ \"free\" electron concentration $[cm^{-3}]$<br>\n",
    "$p \\equiv$ \"free\" hole concentration $[cm^{-3}]$<br>"
   ]
  },
  {
   "cell_type": "markdown",
   "metadata": {},
   "source": [
    "So ... what hapens at a finite temperature?<br><br>\n",
    "At a finite temperature, energy (and other sources) produce the break-up of covalent bonds to form electron-hole pairs.  This process is called \"generation\", $G$"
   ]
  },
  {
   "cell_type": "markdown",
   "metadata": {},
   "source": [
    "$$G=G_{th}+G_{opt}+...[cm^{-3} \\cdot s^{-1}]$$"
   ]
  },
  {
   "cell_type": "markdown",
   "metadata": {},
   "source": [
    "In general, <i>atomic density</i> $\\ggg n,p \\implies G \\ne f(n,p)$<br><br>\n",
    "In other words, the supply of breakable bonds is functionally inexhaustable"
   ]
  },
  {
   "cell_type": "markdown",
   "metadata": {},
   "source": [
    "\"Recombination\" is the formation of a bond which brings together an electron and a hole.<br>\n",
    "\"Recombination\" releases energy in thermal or optical form<br>\n",
    "\"Recombination Rate\" : $R[cm^{-3} \\cdot s^{-1}]$<br>\n",
    "A \"recombination event\" requires 1 electron + 1 hole $\\implies$ $R \\propto n \\cdot p$"
   ]
  },
  {
   "cell_type": "markdown",
   "metadata": {},
   "source": [
    "## Thermal Equilibrium"
   ]
  },
  {
   "cell_type": "markdown",
   "metadata": {},
   "source": [
    "When there is no change in temperature and an absence of external energy sources, \"Thermal Equilibrium\" exists. "
   ]
  },
  {
   "cell_type": "markdown",
   "metadata": {},
   "source": [
    "Generation Rate: $G_0=f(T)$<br>\n",
    "Recombination Rate: $R_0 \\propto n_0 \\cdot p_0$<br>\n",
    "Therefore, in Thermal Equilibrium:<br><br>\n",
    "$$G_0 = R_0 \\implies n_0 \\cdot p_0 = f(T) = n_I^2(T)$$<br>"
   ]
  },
  {
   "cell_type": "markdown",
   "metadata": {},
   "source": [
    "This produces an important consequence:<br><br>\n",
    "    <b>In thermail equilibrium and for a given semiconductor, the np product is a constant that only depends on temperature</b>"
   ]
  },
  {
   "cell_type": "markdown",
   "metadata": {},
   "source": [
    "When a bond breaks, an electron and a hole are produced $\\implies n_0 = p_0$<br>\n",
    "$$n_0 \\cdot p_0= n_i^2$$<br>"
   ]
  },
  {
   "cell_type": "markdown",
   "metadata": {},
   "source": [
    "$\\therefore n_0=p_0=n_i \\implies n_i \\equiv$<b> intrinsic </b> carrier concentration $[cm^{-3}]$"
   ]
  },
  {
   "cell_type": "markdown",
   "metadata": {},
   "source": [
    "The following statement is approximately true<br><br>\n",
    "\"In Si at $300K$ $(27^{\\circ}C)$, $n_i\\approx 1 \\times 10^{10} [cm^{-3}]$\""
   ]
  },
  {
   "cell_type": "markdown",
   "metadata": {},
   "source": [
    "$n_i$ exhibits a very strung function of temperature: $T \\uparrow \\implies n_i \\uparrow$"
   ]
  },
  {
   "cell_type": "markdown",
   "metadata": {},
   "source": [
    "## Doping"
   ]
  },
  {
   "cell_type": "markdown",
   "metadata": {},
   "source": [
    "\"Doping\" is the introduction (through implant or diffusion) of foreign atoms to engineer semiconductor electrical properties. "
   ]
  },
  {
   "cell_type": "markdown",
   "metadata": {},
   "source": [
    "A) <b>Donors:</b> Introduce electrons to the semiconductor, but not holes<br>\n",
    "B) <b>Acceptors:</b> Introduce holes to the semiconductor, but not electrons<br>   "
   ]
  },
  {
   "cell_type": "markdown",
   "metadata": {},
   "source": [
    "## DONORS:"
   ]
  },
  {
   "cell_type": "markdown",
   "metadata": {},
   "source": [
    "![](./Group_5.JPG \"Group 5 Periodic Table\")"
   ]
  },
  {
   "cell_type": "markdown",
   "metadata": {},
   "source": [
    "![](./Group_5_donor.JPG \"Group 5 Periodic Table\")"
   ]
  },
  {
   "cell_type": "markdown",
   "metadata": {},
   "source": [
    "$$n_0=N_d$$<br>\n",
    "$$p_0=\\frac{n_i^2}{N_d}$$"
   ]
  },
  {
   "cell_type": "markdown",
   "metadata": {},
   "source": [
    "When $n_0 \\gg p_0:$ n-type semiconductor is produced."
   ]
  },
  {
   "cell_type": "markdown",
   "metadata": {},
   "source": [
    "Typically, $N_d \\approx 10^{15}-10^{20} [cm^{-3}]$"
   ]
  },
  {
   "cell_type": "markdown",
   "metadata": {},
   "source": [
    "The following plot shows what is taking place: "
   ]
  },
  {
   "cell_type": "markdown",
   "metadata": {},
   "source": [
    "![](./Donor_Concentration.JPG \"Donor Concentration\")"
   ]
  },
  {
   "cell_type": "markdown",
   "metadata": {},
   "source": [
    "## ACCEPTORS:"
   ]
  },
  {
   "cell_type": "markdown",
   "metadata": {},
   "source": [
    "![](./Group_5.JPG \"Group 5 Periodic Table\")"
   ]
  },
  {
   "cell_type": "markdown",
   "metadata": {},
   "source": [
    "![](./Acceptor_Flat.JPG \"Acceptors\")"
   ]
  },
  {
   "cell_type": "markdown",
   "metadata": {},
   "source": [
    "$$p_0=N_a$$<br>\n",
    "$$n_0=\\frac{n_i^2}{N_a}$$"
   ]
  },
  {
   "cell_type": "markdown",
   "metadata": {},
   "source": [
    "When $p_0 \\gg n_0:$ p-type semiconductor is produced."
   ]
  },
  {
   "cell_type": "markdown",
   "metadata": {},
   "source": [
    "Typically, $N_a \\approx 10^{15}-10^{20} [cm^{-3}]$"
   ]
  },
  {
   "cell_type": "markdown",
   "metadata": {},
   "source": [
    "![](./Acceptor_Concentration.JPG \"Acceptor Concentration\")"
   ]
  },
  {
   "cell_type": "code",
   "execution_count": null,
   "metadata": {},
   "outputs": [],
   "source": []
  }
 ],
 "metadata": {
  "kernelspec": {
   "display_name": "Python 3",
   "language": "python",
   "name": "python3"
  },
  "language_info": {
   "codemirror_mode": {
    "name": "ipython",
    "version": 3
   },
   "file_extension": ".py",
   "mimetype": "text/x-python",
   "name": "python",
   "nbconvert_exporter": "python",
   "pygments_lexer": "ipython3",
   "version": "3.7.4"
  }
 },
 "nbformat": 4,
 "nbformat_minor": 2
}
