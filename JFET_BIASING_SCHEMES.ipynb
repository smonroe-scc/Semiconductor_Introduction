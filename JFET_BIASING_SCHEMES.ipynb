{
 "cells": [
  {
   "cell_type": "code",
   "execution_count": 1,
   "metadata": {},
   "outputs": [
    {
     "name": "stdout",
     "output_type": "stream",
     "text": [
      "Author        : S Monroe\n",
      "Version       : 3.7.4 (default, Aug  9 2019, 18:34:13) [MSC v.1915 64 bit (AMD64)]\n",
      "NumPy lib     : 1.18.1\n",
      "Encoding      : utf-8\n",
      "Timestamp     : 1592854900.279449\n"
     ]
    }
   ],
   "source": [
    "from math import cos, sin, tan, acos, asin, atan, atan2, degrees, radians\n",
    "from numpy import reciprocal, pi, sqrt, angle, exp\n",
    "import numpy as np\n",
    "import time, sys\n",
    "\n",
    "def cosd(x):\n",
    "  return cos(radians(x))\n",
    "\n",
    "def sind(x):\n",
    "  return sin(radians(x))\n",
    "\n",
    "def tand(x):\n",
    "  return tan(radians(x))\n",
    "\n",
    "def acosd(x):\n",
    "  return degrees(acos(x))\n",
    "\n",
    "def asind(x):\n",
    "  return degrees(asin(x))\n",
    "\n",
    "def atand(x):\n",
    "  return degrees(atan(x))\n",
    "\n",
    "def atan2d(y, x):\n",
    "  return degrees(atan2(y, x))\n",
    "\n",
    "## Now define conversion functions:\n",
    "\n",
    "def P2R(radii, angles):\n",
    "    return radii * exp(1j*angles*(pi/180))\n",
    "\n",
    "def R2P(x):\n",
    "    return abs(x), angle(x, deg=True)\n",
    "\n",
    "\n",
    "print(\"Author        : S Monroe\")\n",
    "print(\"Version       :\",sys.version[0:100])\n",
    "print(\"NumPy lib     :\",np.version.version)\n",
    "print(\"Encoding      :\",sys.getdefaultencoding())\n",
    "print(\"Timestamp     :\",time.time())"
   ]
  },
  {
   "cell_type": "markdown",
   "metadata": {},
   "source": [
    "We are attempting to solve $$I_D= I_{DSS} \\left( 1-\\frac{I_D \\cdot R_S}{V_P} \\right)^2$$"
   ]
  },
  {
   "cell_type": "markdown",
   "metadata": {},
   "source": [
    "We will use the method presented in the lab (quadratic formula) to solve these problems.  Please recall,\n",
    "$$I_D=\\frac{-B-\\sqrt{B^2-4AC}}{2A}$$"
   ]
  },
  {
   "cell_type": "markdown",
   "metadata": {},
   "source": [
    "In the case of a **self-bias** topology, the quadratic coefficients work out like this:<br><br>\n",
    "$$A=R_S^2$$<br><br>\n",
    "$$B=- \\left( 2|V_P|R_S+\\frac{V_P^2}{I_{DSS}} \\right) $$<br><br>\n",
    "$$C=V_P^2$$"
   ]
  },
  {
   "cell_type": "markdown",
   "metadata": {},
   "source": [
    "**NB!  Extremely important**: the above method is used _instead of_ plotting a load-line on a $g_m$ curve, and finding Q-Point $I_{D(Q)}$ and $V_{GS(Q)}$"
   ]
  },
  {
   "cell_type": "markdown",
   "metadata": {},
   "source": [
    "## Class sheet 34, # 1:"
   ]
  },
  {
   "cell_type": "code",
   "execution_count": 2,
   "metadata": {},
   "outputs": [],
   "source": [
    "RS=470.\n",
    "VP=8.\n",
    "IDSS=10.0E-3\n",
    "RD=1000.\n",
    "VDD=20."
   ]
  },
  {
   "cell_type": "markdown",
   "metadata": {},
   "source": [
    "Fill in the values, and check ..."
   ]
  },
  {
   "cell_type": "code",
   "execution_count": 3,
   "metadata": {},
   "outputs": [
    {
     "name": "stdout",
     "output_type": "stream",
     "text": [
      "220900.0\n",
      "-13920.0\n",
      "64.0\n"
     ]
    }
   ],
   "source": [
    "A=RS**2\n",
    "B=-(2*abs(VP)*RS+(VP**2)/IDSS)\n",
    "C=VP**2\n",
    "print(A)\n",
    "print(B)\n",
    "print(C)"
   ]
  },
  {
   "cell_type": "code",
   "execution_count": 4,
   "metadata": {},
   "outputs": [],
   "source": [
    "ID=(-B-sqrt(B**2-(4*A*C)))/(2*A)"
   ]
  },
  {
   "cell_type": "code",
   "execution_count": 5,
   "metadata": {},
   "outputs": [],
   "source": [
    "VD=ID*RD"
   ]
  },
  {
   "cell_type": "code",
   "execution_count": 6,
   "metadata": {},
   "outputs": [],
   "source": [
    "VO=VDD-VD"
   ]
  },
  {
   "cell_type": "code",
   "execution_count": 7,
   "metadata": {},
   "outputs": [
    {
     "name": "stdout",
     "output_type": "stream",
     "text": [
      "ID: 4.9934e-03 A\n",
      "VO: 15.0066 V\n"
     ]
    }
   ],
   "source": [
    "print(\"ID:\",'{0:.4e}'.format(ID),\"A\")\n",
    "print(\"VO:\",'{0:.4f}'.format(VO),\"V\")"
   ]
  },
  {
   "cell_type": "markdown",
   "metadata": {},
   "source": [
    "## Class sheet 34, # 2:"
   ]
  },
  {
   "cell_type": "code",
   "execution_count": 8,
   "metadata": {},
   "outputs": [],
   "source": [
    "RS=680.\n",
    "VP=6.\n",
    "IDSS=4.0E-3\n",
    "RD=2200.\n",
    "VDD=20."
   ]
  },
  {
   "cell_type": "code",
   "execution_count": 9,
   "metadata": {},
   "outputs": [
    {
     "name": "stdout",
     "output_type": "stream",
     "text": [
      "462400.0\n",
      "-17160.0\n",
      "36.0\n"
     ]
    }
   ],
   "source": [
    "A=RS**2\n",
    "B=-(2*abs(VP)*RS+(VP**2)/IDSS)\n",
    "C=VP**2\n",
    "print(A)\n",
    "print(B)\n",
    "print(C)"
   ]
  },
  {
   "cell_type": "code",
   "execution_count": 10,
   "metadata": {},
   "outputs": [],
   "source": [
    "ID=(-B-sqrt(B**2-(4*A*C)))/(2*A)\n",
    "VD=ID*RD\n",
    "VO=VDD-VD"
   ]
  },
  {
   "cell_type": "code",
   "execution_count": 11,
   "metadata": {},
   "outputs": [
    {
     "name": "stdout",
     "output_type": "stream",
     "text": [
      "ID: 2.2322e-03 A\n",
      "VO: 15.0892 V\n"
     ]
    }
   ],
   "source": [
    "print(\"ID:\",'{0:.4e}'.format(ID),\"A\")\n",
    "print(\"VO:\",'{0:.4f}'.format(VO),\"V\")"
   ]
  },
  {
   "cell_type": "markdown",
   "metadata": {},
   "source": [
    "## Class sheet 34, # 3:"
   ]
  },
  {
   "cell_type": "code",
   "execution_count": 12,
   "metadata": {},
   "outputs": [],
   "source": [
    "RS=920.\n",
    "VP=3.9\n",
    "IDSS=10.0E-3\n",
    "RD=3000.\n",
    "VDD=20."
   ]
  },
  {
   "cell_type": "code",
   "execution_count": 13,
   "metadata": {},
   "outputs": [
    {
     "name": "stdout",
     "output_type": "stream",
     "text": [
      "846400.0\n",
      "-8697.0\n",
      "15.209999999999999\n"
     ]
    }
   ],
   "source": [
    "A=RS**2\n",
    "B=-(2*abs(VP)*RS+(VP**2)/IDSS)\n",
    "C=VP**2\n",
    "print(A)\n",
    "print(B)\n",
    "print(C)"
   ]
  },
  {
   "cell_type": "code",
   "execution_count": 14,
   "metadata": {},
   "outputs": [],
   "source": [
    "ID=(-B-sqrt(B**2-(4*A*C)))/(2*A)\n",
    "VD=ID*RD\n",
    "VO=VDD-VD"
   ]
  },
  {
   "cell_type": "code",
   "execution_count": 15,
   "metadata": {},
   "outputs": [
    {
     "name": "stdout",
     "output_type": "stream",
     "text": [
      "ID: 2.2350e-03 A\n",
      "VO: 13.2949 V\n"
     ]
    }
   ],
   "source": [
    "print(\"ID:\",'{0:.4e}'.format(ID),\"A\")\n",
    "print(\"VO:\",'{0:.4f}'.format(VO),\"V\")"
   ]
  },
  {
   "cell_type": "code",
   "execution_count": 16,
   "metadata": {},
   "outputs": [],
   "source": [
    "RS=1000.\n",
    "VP=6.\n",
    "IDSS=8.0E-3\n",
    "RD=3300.\n",
    "VDD=20."
   ]
  },
  {
   "cell_type": "code",
   "execution_count": 17,
   "metadata": {},
   "outputs": [
    {
     "name": "stdout",
     "output_type": "stream",
     "text": [
      "1000000.0\n",
      "-16500.0\n",
      "36.0\n"
     ]
    }
   ],
   "source": [
    "A=RS**2\n",
    "B=-(2*abs(VP)*RS+(VP**2)/IDSS)\n",
    "C=VP**2\n",
    "print(A)\n",
    "print(B)\n",
    "print(C)"
   ]
  },
  {
   "cell_type": "code",
   "execution_count": 18,
   "metadata": {},
   "outputs": [],
   "source": [
    "ID=(-B-sqrt(B**2-(4*A*C)))/(2*A)\n",
    "VD=ID*RD\n",
    "VO=VDD-VD"
   ]
  },
  {
   "cell_type": "code",
   "execution_count": 19,
   "metadata": {},
   "outputs": [
    {
     "name": "stdout",
     "output_type": "stream",
     "text": [
      "ID: 2.5876e-03 A\n",
      "VO: 11.4608 V\n"
     ]
    }
   ],
   "source": [
    "print(\"ID:\",'{0:.4e}'.format(ID),\"A\")\n",
    "print(\"VO:\",'{0:.4f}'.format(VO),\"V\")"
   ]
  },
  {
   "cell_type": "code",
   "execution_count": 20,
   "metadata": {},
   "outputs": [
    {
     "name": "stdout",
     "output_type": "stream",
     "text": [
      "gm: 1.5166e-03 S\n"
     ]
    }
   ],
   "source": [
    "gm=(2*IDSS/VP)*sqrt(ID/IDSS)\n",
    "print(\"gm:\",'{0:.4e}'.format(gm),\"S\")"
   ]
  },
  {
   "cell_type": "markdown",
   "metadata": {},
   "source": [
    "## Voltage Divider Bias"
   ]
  },
  {
   "cell_type": "markdown",
   "metadata": {},
   "source": [
    "Marginally different in the sense that the quadratic coefficients represent different parameters:<br><br>\n",
    "$$V_G=\\frac{V_{DD} \\cdot R_2}{R_1+R_2}$$<br><br>\n",
    "$$V_{GS}=\\frac{V_{DD} \\cdot R_2}{R_1+R_2}-I_D \\cdot R_S$$<br><br>\n",
    "$$I_D=\\frac{-B-\\sqrt{B^2-4AC}}{2A}$$"
   ]
  },
  {
   "cell_type": "markdown",
   "metadata": {},
   "source": [
    "$$A=R_S^2$$<br><br>\n",
    "$$B=- \\left( 2(|V_P|+|V_G|)R_S+\\frac{V_P^2}{I_{DSS}} \\right) $$<br><br>\n",
    "$$C=(V_P+V_G)^2$$"
   ]
  },
  {
   "cell_type": "markdown",
   "metadata": {},
   "source": [
    "**NB!  Extremely important**: the above method is used _instead of_ plotting a load-line on a $g_m$ curve, and finding Q-Point $I_{D(Q)}$ and $V_{GS(Q)}$"
   ]
  },
  {
   "cell_type": "markdown",
   "metadata": {},
   "source": [
    "## Class sheet 34, # 4:"
   ]
  },
  {
   "cell_type": "code",
   "execution_count": 43,
   "metadata": {},
   "outputs": [],
   "source": [
    "RS=1500.0\n",
    "VP=1.44\n",
    "IDSS=14.2E-3\n",
    "RD=4700.0\n",
    "VDD=15.0\n",
    "R1=220.0E3\n",
    "R2=10.0E3"
   ]
  },
  {
   "cell_type": "code",
   "execution_count": 48,
   "metadata": {},
   "outputs": [
    {
     "name": "stdout",
     "output_type": "stream",
     "text": [
      "0.6521739130434783\n"
     ]
    }
   ],
   "source": [
    "VG=(VDD*R2)/(R1+R2)\n",
    "print(VG)# Voltage Divider Formula"
   ]
  },
  {
   "cell_type": "code",
   "execution_count": 51,
   "metadata": {},
   "outputs": [
    {
     "name": "stdout",
     "output_type": "stream",
     "text": [
      "2250000.0\n",
      "-6422.549908144519\n",
      "4.377191682419658\n"
     ]
    }
   ],
   "source": [
    "A=RS**2\n",
    "B=-(2*abs(VP+VG)*RS+(VP**2)/IDSS)\n",
    "C=(VP+VG)**2\n",
    "print(A)\n",
    "print(B)\n",
    "print(C)"
   ]
  },
  {
   "cell_type": "code",
   "execution_count": 52,
   "metadata": {},
   "outputs": [],
   "source": [
    "ID=(-B-sqrt(B**2-(4*A*C)))/(2*A)\n",
    "VRD=ID*RD\n",
    "VO=VDD-VRD\n",
    "VGS=(VDD*R2)/(R1+R2)-ID*RS"
   ]
  },
  {
   "cell_type": "code",
   "execution_count": 53,
   "metadata": {},
   "outputs": [
    {
     "name": "stdout",
     "output_type": "stream",
     "text": [
      " ID: 1.1246e-03 A\n",
      " VO: 9.7143 V\n",
      " VG: 0.6522 V\n",
      "VGS: -1.0348 V\n"
     ]
    }
   ],
   "source": [
    "print(\" ID:\",'{0:.4e}'.format(ID),\"A\")\n",
    "print(\" VO:\",'{0:.4f}'.format(VO),\"V\")\n",
    "print(\" VG:\",'{0:.4f}'.format(VG),\"V\")\n",
    "print(\"VGS:\",'{0:.4f}'.format(VGS),\"V\")"
   ]
  },
  {
   "cell_type": "markdown",
   "metadata": {},
   "source": [
    "## Class sheet 34, # 5:"
   ]
  },
  {
   "cell_type": "code",
   "execution_count": 26,
   "metadata": {},
   "outputs": [],
   "source": [
    "RS=3300.\n",
    "VP=5.\n",
    "IDSS=12.0E-3\n",
    "RD=4700.\n",
    "VDD=20.\n",
    "R1=10.0E6\n",
    "R2=2.2E6"
   ]
  },
  {
   "cell_type": "code",
   "execution_count": 27,
   "metadata": {},
   "outputs": [],
   "source": [
    "VG=(VDD*R2)/(R1+R2) # Voltage Divider Formula"
   ]
  },
  {
   "cell_type": "code",
   "execution_count": 28,
   "metadata": {},
   "outputs": [
    {
     "name": "stdout",
     "output_type": "stream",
     "text": [
      "10890000.0\n",
      "-58886.61202185792\n",
      "74.07282988443966\n"
     ]
    }
   ],
   "source": [
    "A=RS**2\n",
    "B=-(2*abs(VP+VG)*RS+(VP**2)/IDSS)\n",
    "C=(VP+VG)**2\n",
    "print(A)\n",
    "print(B)\n",
    "print(C)"
   ]
  },
  {
   "cell_type": "code",
   "execution_count": 29,
   "metadata": {},
   "outputs": [],
   "source": [
    "ID=(-B-sqrt(B**2-(4*A*C)))/(2*A)\n",
    "VRD=ID*RD\n",
    "VO=VDD-VRD\n",
    "VGS=(VDD*R2)/(R1+R2)-ID*RS"
   ]
  },
  {
   "cell_type": "code",
   "execution_count": 30,
   "metadata": {},
   "outputs": [
    {
     "name": "stdout",
     "output_type": "stream",
     "text": [
      " ID: 1.9909e-03 A\n",
      " VO: 10.6428 V\n",
      " VG: 3.6066 V\n",
      "VGS: -2.9634 V\n"
     ]
    }
   ],
   "source": [
    "print(\" ID:\",'{0:.4e}'.format(ID),\"A\")\n",
    "print(\" VO:\",'{0:.4f}'.format(VO),\"V\")\n",
    "print(\" VG:\",'{0:.4f}'.format(VG),\"V\")\n",
    "print(\"VGS:\",'{0:.4f}'.format(VGS),\"V\")"
   ]
  },
  {
   "cell_type": "markdown",
   "metadata": {},
   "source": [
    "## Class sheet 34, # 6:"
   ]
  },
  {
   "cell_type": "code",
   "execution_count": 31,
   "metadata": {},
   "outputs": [],
   "source": [
    "RS=3300.\n",
    "VP=4.\n",
    "IDSS=5.0E-3\n",
    "RD=1800.\n",
    "VDD=12.\n",
    "R1=3.3E6\n",
    "R2=2.2E6"
   ]
  },
  {
   "cell_type": "code",
   "execution_count": 32,
   "metadata": {},
   "outputs": [],
   "source": [
    "VG=(VDD*R2)/(R1+R2) # Voltage Divider Formula"
   ]
  },
  {
   "cell_type": "code",
   "execution_count": 33,
   "metadata": {},
   "outputs": [
    {
     "name": "stdout",
     "output_type": "stream",
     "text": [
      "10890000.0\n",
      "-61280.00000000001\n",
      "77.44000000000001\n"
     ]
    }
   ],
   "source": [
    "A=RS**2\n",
    "B=-(2*abs(VP+VG)*RS+(VP**2)/IDSS)\n",
    "C=(VP+VG)**2\n",
    "print(A)\n",
    "print(B)\n",
    "print(C)"
   ]
  },
  {
   "cell_type": "code",
   "execution_count": 34,
   "metadata": {},
   "outputs": [],
   "source": [
    "ID=(-B-sqrt(B**2-(4*A*C)))/(2*A)\n",
    "VRD=ID*RD\n",
    "VO=VDD-VRD\n",
    "VGS=(VDD*R2)/(R1+R2)-ID*RS"
   ]
  },
  {
   "cell_type": "code",
   "execution_count": 35,
   "metadata": {},
   "outputs": [
    {
     "name": "stdout",
     "output_type": "stream",
     "text": [
      " ID: 1.9163e-03 A\n",
      " VO: 8.5507 V\n",
      " VG: 4.8000 V\n",
      "VGS: -1.5237 V\n"
     ]
    }
   ],
   "source": [
    "print(\" ID:\",'{0:.4e}'.format(ID),\"A\")\n",
    "print(\" VO:\",'{0:.4f}'.format(VO),\"V\")\n",
    "print(\" VG:\",'{0:.4f}'.format(VG),\"V\")\n",
    "print(\"VGS:\",'{0:.4f}'.format(VGS),\"V\")"
   ]
  },
  {
   "cell_type": "markdown",
   "metadata": {},
   "source": [
    "**Experiment**: "
   ]
  },
  {
   "cell_type": "code",
   "execution_count": 36,
   "metadata": {},
   "outputs": [],
   "source": [
    "RS=1500.\n",
    "VP=4.\n",
    "IDSS=8.0E-3\n",
    "RD=2400.\n",
    "VDD=16.\n",
    "R1=2.1E6\n",
    "R2=270.0E3"
   ]
  },
  {
   "cell_type": "code",
   "execution_count": 37,
   "metadata": {},
   "outputs": [],
   "source": [
    "VG=(VDD*R2)/(R1+R2) # Voltage Divider Formula"
   ]
  },
  {
   "cell_type": "code",
   "execution_count": 38,
   "metadata": {},
   "outputs": [
    {
     "name": "stdout",
     "output_type": "stream",
     "text": [
      "2250000.0\n",
      "-19468.354430379746\n",
      "33.904822945040856\n"
     ]
    }
   ],
   "source": [
    "A=RS**2\n",
    "B=-(2*abs(VP+VG)*RS+(VP**2)/IDSS)\n",
    "C=(VP+VG)**2\n",
    "print(A)\n",
    "print(B)\n",
    "print(C)"
   ]
  },
  {
   "cell_type": "code",
   "execution_count": 39,
   "metadata": {},
   "outputs": [],
   "source": [
    "ID=(-B-sqrt(B**2-(4*A*C)))/(2*A)\n",
    "VRD=ID*RD\n",
    "VO=VDD-VRD\n",
    "VGS=(VDD*R2)/(R1+R2)-ID*RS"
   ]
  },
  {
   "cell_type": "code",
   "execution_count": 40,
   "metadata": {},
   "outputs": [
    {
     "name": "stdout",
     "output_type": "stream",
     "text": [
      " ID: 2.4163e-03 A\n",
      " VO: 10.2009 V\n",
      " VG: 1.8228 V\n",
      "VGS: -1.8017 V\n"
     ]
    }
   ],
   "source": [
    "print(\" ID:\",'{0:.4e}'.format(ID),\"A\")\n",
    "print(\" VO:\",'{0:.4f}'.format(VO),\"V\")\n",
    "print(\" VG:\",'{0:.4f}'.format(VG),\"V\")\n",
    "print(\"VGS:\",'{0:.4f}'.format(VGS),\"V\")"
   ]
  },
  {
   "cell_type": "markdown",
   "metadata": {},
   "source": [
    "Compare ..."
   ]
  },
  {
   "cell_type": "code",
   "execution_count": 41,
   "metadata": {},
   "outputs": [],
   "source": [
    "VD=VDD-ID*RD\n",
    "VS=ID*RS\n",
    "VDS_method_1=VDD-ID*(RD+RS)\n",
    "VDS_method_2=VD-VS\n",
    "VDG=VD-VG"
   ]
  },
  {
   "cell_type": "code",
   "execution_count": 42,
   "metadata": {},
   "outputs": [
    {
     "name": "stdout",
     "output_type": "stream",
     "text": [
      "     VD: 10.2009 V\n",
      "     VS: 3.6245 V\n",
      " VDS(1): 6.5764 V\n",
      " VDS(2): 6.5764 V\n",
      "    VDG: 8.3781 V\n"
     ]
    }
   ],
   "source": [
    "print(\"     VD:\",'{0:.4f}'.format(VD),\"V\")\n",
    "print(\"     VS:\",'{0:.4f}'.format(VS),\"V\")\n",
    "print(\" VDS(1):\",'{0:.4f}'.format(VDS_method_1),\"V\")\n",
    "print(\" VDS(2):\",'{0:.4f}'.format(VDS_method_2),\"V\")\n",
    "print(\"    VDG:\",'{0:.4f}'.format(VDG),\"V\")"
   ]
  }
 ],
 "metadata": {
  "kernelspec": {
   "display_name": "Python 3",
   "language": "python",
   "name": "python3"
  },
  "language_info": {
   "codemirror_mode": {
    "name": "ipython",
    "version": 3
   },
   "file_extension": ".py",
   "mimetype": "text/x-python",
   "name": "python",
   "nbconvert_exporter": "python",
   "pygments_lexer": "ipython3",
   "version": "3.7.4"
  }
 },
 "nbformat": 4,
 "nbformat_minor": 2
}
