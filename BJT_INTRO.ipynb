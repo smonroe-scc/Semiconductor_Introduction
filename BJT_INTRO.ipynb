{
 "cells": [
  {
   "cell_type": "code",
   "execution_count": null,
   "metadata": {},
   "outputs": [],
   "source": [
    "from math import cos, sin, tan, acos, asin, atan, atan2, degrees, radians\n",
    "from numpy import reciprocal, pi, sqrt, angle, exp\n",
    "import numpy as np\n",
    "import time, sys\n",
    "\n",
    "#hextime=float.hex(time.time())\n",
    "\n",
    "# The foregoing is a clunky way to do this\n",
    "# Haven't spent a lot of time thinking through a more elegant solution\n",
    "\n",
    "def cosd(x):\n",
    "  return cos(radians(x))\n",
    "\n",
    "def sind(x):\n",
    "  return sin(radians(x))\n",
    "\n",
    "def tand(x):\n",
    "  return tan(radians(x))\n",
    "\n",
    "def acosd(x):\n",
    "  return degrees(acos(x))\n",
    "\n",
    "def asind(x):\n",
    "  return degrees(asin(x))\n",
    "\n",
    "def atand(x):\n",
    "  return degrees(atan(x))\n",
    "\n",
    "def atan2d(y, x):\n",
    "  return degrees(atan2(y, x))\n",
    "\n",
    "## Now define conversion functions:\n",
    "\n",
    "def P2R(radii, angles):"
   ]
  },
  {
   "cell_type": "code",
   "execution_count": 1,
   "metadata": {},
   "outputs": [
    {
     "name": "stdout",
     "output_type": "stream",
     "text": [
      "Author        : S Monroe\n",
      "Version       : 3.6.5 | packaged by conda-forge | (default, Apr  6 2018, 16:13:55)\n",
      "NumPy lib     : 1.14.5\n",
      "Encoding      : utf-8\n",
      "Timestamp     : 1532559046.9013937\n"
     ]
    }
   ],
   "source": [
    "    return radii * exp(1j*angles*(pi/180))\n",
    "\n",
    "def R2P(x):\n",
    "    return abs(x), angle(x, deg=True)\n",
    "\n",
    "\n",
    "print(\"Author        : S Monroe\")\n",
    "print(\"Version       :\",sys.version[0:66])\n",
    "print(\"NumPy lib     :\",np.version.version)\n",
    "print(\"Encoding      :\",sys.getdefaultencoding())\n",
    "print(\"Timestamp     :\",time.time())"
   ]
  },
  {
   "cell_type": "markdown",
   "metadata": {},
   "source": [
    "# <b>Definitions</b>:"
   ]
  },
  {
   "cell_type": "markdown",
   "metadata": {},
   "source": [
    "**BJT**: Bipolar Junction Transistor<br><br>\n",
    "**Emitter:** Most heavily doped region of the transistor<br><br>\n",
    "**Base:** Control terminal for the transistor.  Must be thin<br><br>\n",
    "**Collector**: Moderately doped terminal of the transistor. Collects minority carriers from base<br><br>\n",
    "**Generation**: the process whereby electrons and holes are created<br><br>\n",
    "**Diffusion:** The net movement of carriers from a region of high concentration to a region of low concentration\n",
    "<br><br>\n",
    "**Recombination:** Recombination is the process whereby electrons and holes recombine\n",
    "<br><br>\n",
    "**Two basic transport mechanisms-**\n",
    "<br><br>\n",
    "**Drift**: movement of carriers due to electric fields\n",
    "<br>\n",
    "**Diffusion**: the flow of charges due to density gradient (differences in carrier concentration)\n",
    "<br>\n",
    "* When a bias is applied to two ends of a piece of semiconductor, electrons diffuse from high density regions to low density regions, forming a gradient of electron density. This process generates current, referred to as diffusion current\n",
    "<br>\n",
    "<br>\n",
    "With <u>forward bias</u> the junction current is dominated by majority carrier diffusion across the junction increasing exponentially with increasing forward bias voltage. <b>Generally, the more heavily doped side contributes more to carrier diffusion (therefore current flow)</b><br><br>\n",
    "With <u>reverse bias</u> the junction current is dominated by minority carrier drift across the junction\n",
    "<br><br>"
   ]
  },
  {
   "cell_type": "markdown",
   "metadata": {},
   "source": [
    "# <b>SUMMARY OF OPERATION</b>"
   ]
  },
  {
   "cell_type": "markdown",
   "metadata": {},
   "source": [
    "* Charge flow in a BJT is due to diffusion of charge carriers across a junction between two regions of different charge concentrations\n",
    "\n",
    "* The regions of a BJT are called emitter, collector, and base \n",
    "\n",
    "* A discrete transistor has three leads for connection to these regions. Typically, the emitter region is heavily doped compared to the other two layers \n",
    "\n",
    "* Majority charge carrier concentrations in base and collector layers are about the same \n",
    "\n",
    "* Collector doping is typically ten times lighter than base doping\n",
    "\n",
    "* By design, most of the BJT collector current is due to the flow of charge carriers (electrons or holes) injected from a high-concentration emitter into the base where they are minority carriers that diffuse toward the collector\n",
    "\n",
    "* BJTs are classified as minority-carrier devices.\n",
    "\n",
    "## In typical operation:\n",
    "\n",
    "* the base–emitter junction is forward-biased, which means that the p-doped side of the junction is at a more positive potential than the n-doped side, \n",
    "\n",
    "* base–collector junction is reverse-biased\n",
    "\n",
    "## Example\n",
    "\n",
    "* In an NPN transistor, when positive bias is applied to the base–emitter junction, the equilibrium is disturbed between the thermally generated carriers and the repelling electric field of the n-doped emitter depletion region\n",
    "\n",
    "## Consequence\n",
    "\n",
    "* This allows thermally excited electrons to inject from the emitter into the base region. These electrons diffuse through the base from the region of high concentration near the emitter toward the region of low concentration near the collector. \n",
    "\n",
    "* The electrons in the base are called minority carriers because the base is doped p-type, which makes holes the majority carrier in the base.\n",
    "\n",
    "* To minimize the fraction of carriers that recombine before reaching the collector–base junction, the transistor's base region must be thin enough that carriers can diffuse across it in much less time than the semiconductor's minority-carrier lifetime.\n",
    "\n",
    "## Required for \"active region, transistor like\" operation:\n",
    "\n",
    "* The thickness of the base must be much less than the diffusion length of the electrons.  This requires the base to be very thin. \n",
    "\n",
    "* The collector–base junction is reverse-biased, and so little electron injection occurs from the collector to the base, but electrons that diffuse through the base towards the collector are swept into the collector by the electric field in the depletion region of the collector–base junction. \n",
    "\n",
    "* The thin shared base and asymmetric collector–emitter doping are what differentiates a bipolar transistor from two separate and oppositely biased diodes connected in series."
   ]
  },
  {
   "cell_type": "markdown",
   "metadata": {},
   "source": [
    "# REGIONS OF OPERATION FOR THE BJT:"
   ]
  },
  {
   "cell_type": "markdown",
   "metadata": {},
   "source": [
    " <img src=\"BJT_REGIONS_OF_OPERATION.JPG\" alt=\"BJT REGIONS OF OPERATION\" height=\"600\" width=\"600\"> "
   ]
  },
  {
   "cell_type": "markdown",
   "metadata": {},
   "source": [
    "## Some equalities and approximations: \n",
    "<br><br>\n",
    "$$V_{BE} \\approx 0.7V$$<br>\n",
    "$$I_E=I_C+I_B$$<br>\n",
    "$$I_C \\approx I_E$$<br>\n",
    "$$\\beta_{dc}=\\frac{I_C}{I_B}$$<br>\n",
    "$$\\alpha=\\frac{I_C}{I_E}$$<br>\n",
    "$$\\alpha \\approx 1$$<br>\n",
    "$$I_E=(\\beta_{dc}+1) \\cdot I_B$$<br>"
   ]
  },
  {
   "cell_type": "markdown",
   "metadata": {},
   "source": [
    "## For the dc load line:"
   ]
  },
  {
   "cell_type": "markdown",
   "metadata": {},
   "source": [
    "$$I_{C_{(sat)}}=\\frac{V_{CC}}{R_C}$$<br>\n",
    "$$V_{{CE}_{(off)}}=V_{CE}$$"
   ]
  },
  {
   "cell_type": "markdown",
   "metadata": {},
   "source": [
    "Select a middle value for the \"Q-Point\" ...<br>\n",
    "i.e., $$V_{CE}=\\frac{V_{CC}}{2}$$<br>\n",
    "$$I_C=\\frac{I_{C_{(sat)}}}{2}$$<br>\n",
    "If these conditions are met the \"Q-point\" is said to be <b>midpoint biased</b><br><br>"
   ]
  },
  {
   "cell_type": "markdown",
   "metadata": {},
   "source": [
    "An example using circuits from **class sheet 10**  (Fixed Base Biasing):"
   ]
  },
  {
   "cell_type": "markdown",
   "metadata": {},
   "source": [
    " <img src=\"Fixed_Base_Bias.JPG\" alt=\"Fixed Base Bias\" height=\"396\" width=\"396\"> "
   ]
  },
  {
   "cell_type": "code",
   "execution_count": 2,
   "metadata": {},
   "outputs": [],
   "source": [
    "VCC=12.\n",
    "R1=240E3\n",
    "R2=2200.\n",
    "VBE=0.7\n",
    "VE=0.\n",
    "β=50. \n",
    "VB=VE+VBE\n",
    "VR1=VCC-VB\n",
    "IR1=VR1/R1\n",
    "IC=IR1*β\n",
    "VR2=IC*R2\n",
    "VC=VCC-VR2\n",
    "VCE=VC-VE\n",
    "VBC=VB-VC\n",
    "VOUT=VC"
   ]
  },
  {
   "cell_type": "code",
   "execution_count": 3,
   "metadata": {},
   "outputs": [
    {
     "name": "stdout",
     "output_type": "stream",
     "text": [
      "dc approximation:\n",
      "\n",
      "  VB: 0.7000 V\n",
      " VR1: 11.3000 V\n",
      " VR2: 5.1792 V\n",
      " VCE: 6.8208 V\n",
      "VOUT: 6.8208 V\n",
      " VBC: -6.1208 V\n",
      "  IB: 4.7083e-05 A\n",
      "  IC: 2.3542e-03 A\n"
     ]
    }
   ],
   "source": [
    "print(\"dc approximation:\")\n",
    "print()\n",
    "print(\"  VB:\",'{0:.4f}'.format(VB),\"V\")\n",
    "print(\" VR1:\",'{0:.4f}'.format(VR1),\"V\")\n",
    "print(\" VR2:\",'{0:.4f}'.format(VR2),\"V\")\n",
    "print(\" VCE:\",'{0:.4f}'.format(VCE),\"V\")\n",
    "print(\"VOUT:\",'{0:.4f}'.format(VOUT),\"V\")\n",
    "print(\" VBC:\",'{0:.4f}'.format(VBC),\"V\")\n",
    "print(\"  IB:\",'{0:.4e}'.format(IR1),\"A\")\n",
    "print(\"  IC:\",'{0:.4e}'.format(IC),\"A\")"
   ]
  },
  {
   "cell_type": "markdown",
   "metadata": {},
   "source": [
    " <img src=\"Emitter_Bias.JPG\" alt=\"Emitter Bias\" height=\"396\" width=\"396\"> "
   ]
  },
  {
   "cell_type": "markdown",
   "metadata": {},
   "source": [
    "## Emitter Bias"
   ]
  },
  {
   "cell_type": "markdown",
   "metadata": {},
   "source": [
    "$$V_{CC}-I_BR_B-V_{BE}-I_ER_E=0$$<br><br>\n",
    "$$I_B=\\frac{V_{CC}-V_{BE}}{R_B+(\\beta+1)R_E}$$<br><br>\n",
    "$$I_C=\\beta I_B$$<br><br>\n",
    "$$V_{CE}=V_{CC}-I_C(R_C+R_E)$$<br><br>\n",
    "$$V_C=V_{CC}-I_CR_C$$<br><br>\n",
    "$$V_E=V_C-V_{CE}$$<br><br>\n",
    "$$V_B=V_{BE}+V_E$$<br><br>\n",
    "$$V_{BC}=V_B-B_C$$"
   ]
  },
  {
   "cell_type": "markdown",
   "metadata": {},
   "source": [
    "Note the $(\\beta+1)$ term. It turns out that the emitter resistor \"appears as\" $(\\beta+1)$ _multiplied_ by $R_E$.  In other words, the emitter resistor is \"reflected\" back into the input base circuit by this factor.\n",
    "\n",
    "\n",
    "If you imagine that there are two loops present: a base-emitter loop and a collector emitter loop.  Clearly the emitter resistor is in the collector emitter loop, but the way it works turns out to show up in the calculation of $I_B$ as shown."
   ]
  },
  {
   "cell_type": "code",
   "execution_count": 8,
   "metadata": {},
   "outputs": [],
   "source": [
    "VCC=20.\n",
    "RB=430E3\n",
    "RC=2000.\n",
    "RE=1000.\n",
    "VBE=0.7\n",
    "β=100. \n",
    "IB=(VCC-VBE)/(RB+(β+1)*RE)\n",
    "IC=β*IB\n",
    "VCE=VCC-IC*(RC+RE)\n",
    "VC=VCC-IC*RC\n",
    "VE=VC-VCE\n",
    "VB=VBE+VE\n",
    "VBC=VB-VC\n",
    "\n"
   ]
  },
  {
   "cell_type": "code",
   "execution_count": 10,
   "metadata": {},
   "outputs": [
    {
     "name": "stdout",
     "output_type": "stream",
     "text": [
      "dc approximation:\n",
      "\n",
      "  VB: 4.3347 V\n",
      "  VC: 12.7307 V\n",
      "  VE: 3.6347 V\n",
      " VCE: 9.0960 V\n",
      " VBC: -8.3960 V\n",
      "  IB: 3.6347e-05 A\n",
      "  IC: 3.6347e-03 A\n"
     ]
    }
   ],
   "source": [
    "print(\"dc approximation:\")\n",
    "print()\n",
    "print(\"  VB:\",'{0:.4f}'.format(VB),\"V\")\n",
    "print(\"  VC:\",'{0:.4f}'.format(VC),\"V\")\n",
    "print(\"  VE:\",'{0:.4f}'.format(VE),\"V\")\n",
    "print(\" VCE:\",'{0:.4f}'.format(VCE),\"V\")\n",
    "print(\" VBC:\",'{0:.4f}'.format(VBC),\"V\")\n",
    "print(\"  IB:\",'{0:.4e}'.format(IB),\"A\")\n",
    "print(\"  IC:\",'{0:.4e}'.format(IC),\"A\")"
   ]
  },
  {
   "cell_type": "code",
   "execution_count": null,
   "metadata": {},
   "outputs": [],
   "source": []
  }
 ],
 "metadata": {
  "kernelspec": {
   "display_name": "Python 3",
   "language": "python",
   "name": "python3"
  },
  "language_info": {
   "codemirror_mode": {
    "name": "ipython",
    "version": 3
   },
   "file_extension": ".py",
   "mimetype": "text/x-python",
   "name": "python",
   "nbconvert_exporter": "python",
   "pygments_lexer": "ipython3",
   "version": "3.7.4"
  }
 },
 "nbformat": 4,
 "nbformat_minor": 2
}
